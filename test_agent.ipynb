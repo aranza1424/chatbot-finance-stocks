{
 "cells": [
  {
   "cell_type": "code",
   "execution_count": 1,
   "id": "b17e36ad",
   "metadata": {},
   "outputs": [],
   "source": [
    "%run ./setup_path.py "
   ]
  },
  {
   "cell_type": "code",
   "execution_count": 2,
   "id": "cf10040c",
   "metadata": {},
   "outputs": [
    {
     "name": "stdout",
     "output_type": "stream",
     "text": [
      "c:\\Users\\palac\\Documents\\DS Projects\\2. Chatbot finance\\chatbot finance stock\n",
      "c:\\Users\\palac\\anaconda3\\envs\\agentic\\python311.zip\n",
      "c:\\Users\\palac\\anaconda3\\envs\\agentic\\DLLs\n",
      "c:\\Users\\palac\\anaconda3\\envs\\agentic\\Lib\n",
      "c:\\Users\\palac\\anaconda3\\envs\\agentic\n",
      "\n",
      "c:\\Users\\palac\\anaconda3\\envs\\agentic\\Lib\\site-packages\n",
      "c:\\Users\\palac\\anaconda3\\envs\\agentic\\Lib\\site-packages\\win32\n",
      "c:\\Users\\palac\\anaconda3\\envs\\agentic\\Lib\\site-packages\\win32\\lib\n",
      "c:\\Users\\palac\\anaconda3\\envs\\agentic\\Lib\\site-packages\\Pythonwin\n"
     ]
    }
   ],
   "source": [
    "import sys\n",
    "print(\"\\n\".join(sys.path))"
   ]
  },
  {
   "cell_type": "code",
   "execution_count": 1,
   "id": "c54d9b0e",
   "metadata": {},
   "outputs": [],
   "source": [
    "from agent.agent_graph import AgentGraph"
   ]
  },
  {
   "cell_type": "code",
   "execution_count": 2,
   "id": "2d9795b0",
   "metadata": {},
   "outputs": [],
   "source": [
    "my_graph = AgentGraph()"
   ]
  },
  {
   "cell_type": "code",
   "execution_count": 3,
   "id": "81d22e52",
   "metadata": {},
   "outputs": [
    {
     "data": {
      "text/plain": [
       "'¡Hola! ¿En qué puedo ayudarte hoy?'"
      ]
     },
     "execution_count": 3,
     "metadata": {},
     "output_type": "execute_result"
    }
   ],
   "source": [
    "my_graph.get_response(\"Hola\")"
   ]
  }
 ],
 "metadata": {
  "kernelspec": {
   "display_name": "agentic",
   "language": "python",
   "name": "python3"
  },
  "language_info": {
   "codemirror_mode": {
    "name": "ipython",
    "version": 3
   },
   "file_extension": ".py",
   "mimetype": "text/x-python",
   "name": "python",
   "nbconvert_exporter": "python",
   "pygments_lexer": "ipython3",
   "version": "3.11.11"
  }
 },
 "nbformat": 4,
 "nbformat_minor": 5
}
